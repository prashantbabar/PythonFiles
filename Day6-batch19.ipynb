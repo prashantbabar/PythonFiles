{
 "cells": [
  {
   "cell_type": "code",
   "execution_count": null,
   "metadata": {},
   "outputs": [],
   "source": [
    "Understanding looping statement"
   ]
  },
  {
   "cell_type": "code",
   "execution_count": null,
   "metadata": {},
   "outputs": [],
   "source": [
    "For loop Introduction ***"
   ]
  },
  {
   "cell_type": "code",
   "execution_count": 1,
   "metadata": {},
   "outputs": [
    {
     "name": "stdout",
     "output_type": "stream",
     "text": [
      "['pavan', 'kirti', 'jyoti', 'lakshmi', 'debyansh', 'kumar', 'narasimha', 'balachander', 'nagarajan']\n"
     ]
    }
   ],
   "source": [
    "students = ['pavan','kirti','jyoti','lakshmi','debyansh','kumar','narasimha','balachander','nagarajan']\n",
    "print (students)"
   ]
  },
  {
   "cell_type": "code",
   "execution_count": 2,
   "metadata": {},
   "outputs": [
    {
     "data": {
      "text/plain": [
       "list"
      ]
     },
     "execution_count": 2,
     "metadata": {},
     "output_type": "execute_result"
    }
   ],
   "source": [
    "type(students)"
   ]
  },
  {
   "cell_type": "code",
   "execution_count": null,
   "metadata": {},
   "outputs": [],
   "source": [
    "Req : I want to appreciate each and every student for completing their work on time"
   ]
  },
  {
   "cell_type": "code",
   "execution_count": null,
   "metadata": {},
   "outputs": [],
   "source": [
    "By using concept of f-string"
   ]
  },
  {
   "cell_type": "code",
   "execution_count": 3,
   "metadata": {},
   "outputs": [
    {
     "name": "stdout",
     "output_type": "stream",
     "text": [
      "keep the good work, pavan\n"
     ]
    }
   ],
   "source": [
    "print(f\"keep the good work, {students[0]}\")"
   ]
  },
  {
   "cell_type": "code",
   "execution_count": 4,
   "metadata": {},
   "outputs": [
    {
     "name": "stdout",
     "output_type": "stream",
     "text": [
      "keep the good work, jyoti\n"
     ]
    }
   ],
   "source": [
    "print(f\"keep the good work, {students[2]}\")"
   ]
  },
  {
   "cell_type": "code",
   "execution_count": null,
   "metadata": {},
   "outputs": [],
   "source": [
    "Req: I want to appreciate all student from my list in single go .."
   ]
  },
  {
   "cell_type": "code",
   "execution_count": 5,
   "metadata": {},
   "outputs": [
    {
     "name": "stdout",
     "output_type": "stream",
     "text": [
      "['pavan', 'kirti', 'jyoti', 'lakshmi', 'debyansh', 'kumar', 'narasimha', 'balachander', 'nagarajan']\n"
     ]
    }
   ],
   "source": [
    "print(students)"
   ]
  },
  {
   "cell_type": "code",
   "execution_count": null,
   "metadata": {},
   "outputs": [],
   "source": [
    "for student(tempvar) in students(mainvar):\n",
    "    print(student)(tempvar)"
   ]
  },
  {
   "cell_type": "code",
   "execution_count": 7,
   "metadata": {},
   "outputs": [
    {
     "name": "stdout",
     "output_type": "stream",
     "text": [
      "Keep the Good work, pavan\n",
      "Keep the Good work, kirti\n",
      "Keep the Good work, jyoti\n",
      "Keep the Good work, lakshmi\n",
      "Keep the Good work, debyansh\n",
      "Keep the Good work, kumar\n",
      "Keep the Good work, narasimha\n",
      "Keep the Good work, balachander\n",
      "Keep the Good work, nagarajan\n"
     ]
    }
   ],
   "source": [
    "for student in students:\n",
    "    print(f\"Keep the Good work, {student}\")"
   ]
  },
  {
   "cell_type": "code",
   "execution_count": null,
   "metadata": {},
   "outputs": [],
   "source": [
    "Genral syntax of a for loop :\n",
    "    "
   ]
  },
  {
   "cell_type": "code",
   "execution_count": null,
   "metadata": {},
   "outputs": [],
   "source": [
    "for tempvar in mainvar:\n",
    "    print(tempvar)"
   ]
  },
  {
   "cell_type": "code",
   "execution_count": 9,
   "metadata": {},
   "outputs": [
    {
     "name": "stdout",
     "output_type": "stream",
     "text": [
      "Keep the good work, nagarajan\n",
      "Keep the good work, nagarajan\n",
      "Keep the good work, nagarajan\n",
      "Keep the good work, nagarajan\n",
      "Keep the good work, nagarajan\n",
      "Keep the good work, nagarajan\n",
      "Keep the good work, nagarajan\n",
      "Keep the good work, nagarajan\n",
      "Keep the good work, nagarajan\n"
     ]
    }
   ],
   "source": [
    "for i in students:\n",
    "    print (f\"Keep the good work, {student}\")"
   ]
  },
  {
   "cell_type": "code",
   "execution_count": null,
   "metadata": {},
   "outputs": [],
   "source": [
    "for tempvar in mainvar:\n",
    "    print(tempvar)   # Indentation (gap on the left side)"
   ]
  },
  {
   "cell_type": "code",
   "execution_count": null,
   "metadata": {},
   "outputs": [],
   "source": []
  },
  {
   "cell_type": "code",
   "execution_count": 11,
   "metadata": {},
   "outputs": [
    {
     "name": "stdout",
     "output_type": "stream",
     "text": [
      "['prashant', 'uma', 'sameer', 'akshara', 'arjun', 'nishant', 'namrata', 'jayashree', 'karthik', 'meghna']\n"
     ]
    }
   ],
   "source": [
    "my_students = ['prashant','uma','sameer','akshara','arjun','nishant','namrata','jayashree','karthik','meghna']\n",
    "print(my_students)"
   ]
  },
  {
   "cell_type": "code",
   "execution_count": null,
   "metadata": {},
   "outputs": [],
   "source": [
    "Req2 : I am expecting today all your practice notes and github URLs ..."
   ]
  },
  {
   "cell_type": "code",
   "execution_count": 12,
   "metadata": {},
   "outputs": [
    {
     "name": "stdout",
     "output_type": "stream",
     "text": [
      "Keep up the good work, prashant\n",
      "I am expecting all your practise notes or github urls, prashant\n",
      "Keep up the good work, uma\n",
      "I am expecting all your practise notes or github urls, uma\n",
      "Keep up the good work, sameer\n",
      "I am expecting all your practise notes or github urls, sameer\n",
      "Keep up the good work, akshara\n",
      "I am expecting all your practise notes or github urls, akshara\n",
      "Keep up the good work, arjun\n",
      "I am expecting all your practise notes or github urls, arjun\n",
      "Keep up the good work, nishant\n",
      "I am expecting all your practise notes or github urls, nishant\n",
      "Keep up the good work, namrata\n",
      "I am expecting all your practise notes or github urls, namrata\n",
      "Keep up the good work, jayashree\n",
      "I am expecting all your practise notes or github urls, jayashree\n",
      "Keep up the good work, karthik\n",
      "I am expecting all your practise notes or github urls, karthik\n",
      "Keep up the good work, meghna\n",
      "I am expecting all your practise notes or github urls, meghna\n"
     ]
    }
   ],
   "source": [
    "for a in my_students:\n",
    "    print(f\"Keep up the good work, {a}\")\n",
    "    print(f\"I am expecting all your practise notes or github urls, {a}\")"
   ]
  },
  {
   "cell_type": "code",
   "execution_count": 16,
   "metadata": {},
   "outputs": [
    {
     "name": "stdout",
     "output_type": "stream",
     "text": [
      "['prashant', 'uma', 'sameer', 'akshara', 'arjun', 'nishant', 'namrata', 'jayashree', 'karthik', 'meghna']\n"
     ]
    }
   ],
   "source": [
    "print (my_students)"
   ]
  },
  {
   "cell_type": "code",
   "execution_count": 15,
   "metadata": {},
   "outputs": [
    {
     "name": "stdout",
     "output_type": "stream",
     "text": [
      "Keep up the good work, prashant\n",
      "I am expecting all your practise notes or github urls, prashant.\n",
      "\n",
      "Keep up the good work, uma\n",
      "I am expecting all your practise notes or github urls, uma.\n",
      "\n",
      "Keep up the good work, sameer\n",
      "I am expecting all your practise notes or github urls, sameer.\n",
      "\n",
      "Keep up the good work, akshara\n",
      "I am expecting all your practise notes or github urls, akshara.\n",
      "\n",
      "Keep up the good work, arjun\n",
      "I am expecting all your practise notes or github urls, arjun.\n",
      "\n",
      "Keep up the good work, nishant\n",
      "I am expecting all your practise notes or github urls, nishant.\n",
      "\n",
      "Keep up the good work, namrata\n",
      "I am expecting all your practise notes or github urls, namrata.\n",
      "\n",
      "Keep up the good work, jayashree\n",
      "I am expecting all your practise notes or github urls, jayashree.\n",
      "\n",
      "Keep up the good work, karthik\n",
      "I am expecting all your practise notes or github urls, karthik.\n",
      "\n",
      "Keep up the good work, meghna\n",
      "I am expecting all your practise notes or github urls, meghna.\n",
      "\n"
     ]
    }
   ],
   "source": [
    "for a in my_students:\n",
    "    print(f\"Keep up the good work, {a}\")\n",
    "    print(f\"I am expecting all your practise notes or github urls, {a}.\\n\")   #\\n to add space"
   ]
  },
  {
   "cell_type": "code",
   "execution_count": 17,
   "metadata": {},
   "outputs": [
    {
     "name": "stdout",
     "output_type": "stream",
     "text": [
      "['prashant', 'uma', 'sameer', 'akshara', 'arjun', 'nishant', 'namrata', 'jayashree', 'karthik', 'meghna']\n"
     ]
    }
   ],
   "source": [
    "print (my_students)"
   ]
  },
  {
   "cell_type": "code",
   "execution_count": null,
   "metadata": {},
   "outputs": [],
   "source": []
  }
 ],
 "metadata": {
  "kernelspec": {
   "display_name": "Python 3",
   "language": "python",
   "name": "python3"
  },
  "language_info": {
   "codemirror_mode": {
    "name": "ipython",
    "version": 3
   },
   "file_extension": ".py",
   "mimetype": "text/x-python",
   "name": "python",
   "nbconvert_exporter": "python",
   "pygments_lexer": "ipython3",
   "version": "3.7.6"
  }
 },
 "nbformat": 4,
 "nbformat_minor": 4
}
