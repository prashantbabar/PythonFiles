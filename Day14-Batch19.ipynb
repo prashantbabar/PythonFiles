{
 "cells": [
  {
   "cell_type": "code",
   "execution_count": null,
   "metadata": {},
   "outputs": [],
   "source": [
    "***Introduction to constructor :  (megical method / special method)"
   ]
  },
  {
   "cell_type": "code",
   "execution_count": null,
   "metadata": {},
   "outputs": [],
   "source": []
  },
  {
   "cell_type": "code",
   "execution_count": null,
   "metadata": {},
   "outputs": [],
   "source": [
    "Req - creating a Dog class -\n",
    "    \n",
    "        3 methods I want to create \n",
    "        \n",
    "        sit , sleep and roll-over"
   ]
  },
  {
   "cell_type": "code",
   "execution_count": 1,
   "metadata": {},
   "outputs": [],
   "source": [
    "class Dog:\n",
    "    \"\"\"Simple attempt to model a dog\"\"\"                       #----->doc string -commenting inside a class\n",
    "    def __init__(self, name, age):                            #------>complusary to use double underscore in constructor\n",
    "        \"\"\"Initialize name and age attributes\"\"\"\n",
    "        self.name = name                                       #------>attributes given\n",
    "        self.age = age\n",
    "        print(\"It got executed\")\n",
    "        \n",
    "    def sit(self):                                              #-----> methods used inside the class\n",
    "        \"\"\"Simulate a dog to sit in response to command\"\"\"\n",
    "        print(f\"{self.name} is now sitting..\")\n",
    "        \n",
    "    def roll_over(self):\n",
    "        \"\"\"Simulate a dog to roll over response to command\"\"\"\n",
    "        print(f\"{self.name} is now rolling over ..\")\n",
    "        \n",
    "    def sleep(self):\n",
    "        \"\"\"Simulate a dog to sleep over response to command\"\"\"\n",
    "        print(f\"{self.name} is now sleeping\")\n",
    "        "
   ]
  },
  {
   "cell_type": "code",
   "execution_count": 2,
   "metadata": {},
   "outputs": [
    {
     "name": "stdout",
     "output_type": "stream",
     "text": [
      "It got executed\n"
     ]
    }
   ],
   "source": [
    "test = Dog('Rex', 3)                                        #----> passing the arguments here itself"
   ]
  },
  {
   "cell_type": "code",
   "execution_count": 3,
   "metadata": {},
   "outputs": [
    {
     "name": "stdout",
     "output_type": "stream",
     "text": [
      "Rex is now sitting..\n"
     ]
    }
   ],
   "source": [
    "test.sit()                              #-----> assigning the method here with required object *(test - object created)*"
   ]
  },
  {
   "cell_type": "code",
   "execution_count": 4,
   "metadata": {},
   "outputs": [
    {
     "name": "stdout",
     "output_type": "stream",
     "text": [
      "Rex is now rolling over ..\n"
     ]
    }
   ],
   "source": [
    "test.roll_over()"
   ]
  },
  {
   "cell_type": "code",
   "execution_count": 5,
   "metadata": {},
   "outputs": [
    {
     "name": "stdout",
     "output_type": "stream",
     "text": [
      "Rex is now sleeping\n"
     ]
    }
   ],
   "source": [
    "test.sleep()"
   ]
  },
  {
   "cell_type": "code",
   "execution_count": null,
   "metadata": {},
   "outputs": [],
   "source": []
  },
  {
   "cell_type": "code",
   "execution_count": null,
   "metadata": {},
   "outputs": [],
   "source": []
  },
  {
   "cell_type": "code",
   "execution_count": null,
   "metadata": {},
   "outputs": [],
   "source": []
  },
  {
   "cell_type": "code",
   "execution_count": null,
   "metadata": {},
   "outputs": [],
   "source": []
  },
  {
   "cell_type": "code",
   "execution_count": null,
   "metadata": {},
   "outputs": [],
   "source": []
  },
  {
   "cell_type": "code",
   "execution_count": null,
   "metadata": {},
   "outputs": [],
   "source": []
  },
  {
   "cell_type": "code",
   "execution_count": null,
   "metadata": {},
   "outputs": [],
   "source": []
  },
  {
   "cell_type": "code",
   "execution_count": null,
   "metadata": {},
   "outputs": [],
   "source": []
  }
 ],
 "metadata": {
  "kernelspec": {
   "display_name": "Python 3",
   "language": "python",
   "name": "python3"
  },
  "language_info": {
   "codemirror_mode": {
    "name": "ipython",
    "version": 3
   },
   "file_extension": ".py",
   "mimetype": "text/x-python",
   "name": "python",
   "nbconvert_exporter": "python",
   "pygments_lexer": "ipython3",
   "version": "3.7.6"
  }
 },
 "nbformat": 4,
 "nbformat_minor": 4
}
